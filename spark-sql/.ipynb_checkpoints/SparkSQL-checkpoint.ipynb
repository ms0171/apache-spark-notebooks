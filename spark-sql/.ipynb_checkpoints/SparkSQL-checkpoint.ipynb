{
 "cells": [
  {
   "cell_type": "code",
   "execution_count": 1,
   "metadata": {
    "collapsed": true
   },
   "outputs": [],
   "source": [
    "from pyspark.sql import SQLContext\n",
    "import pandas as pd"
   ]
  },
  {
   "cell_type": "code",
   "execution_count": 2,
   "metadata": {
    "collapsed": true
   },
   "outputs": [],
   "source": [
    "sqlsc = SQLContext(sc)"
   ]
  },
  {
   "cell_type": "code",
   "execution_count": 3,
   "metadata": {
    "collapsed": false
   },
   "outputs": [],
   "source": [
    "df = sqlsc.read.format(\"jdbc\") \\\n",
    "  .option(\"url\", \"jdbc:postgresql://localhost/cloudera?user=cloudera\") \\\n",
    "  .option(\"dbtable\", \"gameclicks\") \\\n",
    "  .load()"
   ]
  },
  {
   "cell_type": "code",
   "execution_count": 4,
   "metadata": {
    "collapsed": false
   },
   "outputs": [
    {
     "name": "stdout",
     "output_type": "stream",
     "text": [
      "root\n",
      " |-- timestamp: timestamp (nullable = false)\n",
      " |-- clickid: integer (nullable = false)\n",
      " |-- userid: integer (nullable = false)\n",
      " |-- usersessionid: integer (nullable = false)\n",
      " |-- ishit: integer (nullable = false)\n",
      " |-- teamid: integer (nullable = false)\n",
      " |-- teamlevel: integer (nullable = false)\n",
      "\n"
     ]
    }
   ],
   "source": [
    "df.printSchema()"
   ]
  },
  {
   "cell_type": "code",
   "execution_count": 5,
   "metadata": {
    "collapsed": false
   },
   "outputs": [
    {
     "data": {
      "text/plain": [
       "755806"
      ]
     },
     "execution_count": 5,
     "metadata": {},
     "output_type": "execute_result"
    }
   ],
   "source": [
    "df.count()"
   ]
  },
  {
   "cell_type": "code",
   "execution_count": 6,
   "metadata": {
    "collapsed": false
   },
   "outputs": [
    {
     "data": {
      "text/plain": [
       "[Row(timestamp=datetime.datetime(2016, 5, 26, 15, 6, 55), clickid=105, userid=1038, usersessionid=5916, ishit=0, teamid=25, teamlevel=1),\n",
       " Row(timestamp=datetime.datetime(2016, 5, 26, 15, 7, 9), clickid=154, userid=1099, usersessionid=5898, ishit=0, teamid=44, teamlevel=1),\n",
       " Row(timestamp=datetime.datetime(2016, 5, 26, 15, 7, 14), clickid=229, userid=899, usersessionid=5757, ishit=0, teamid=71, teamlevel=1),\n",
       " Row(timestamp=datetime.datetime(2016, 5, 26, 15, 7, 14), clickid=322, userid=2197, usersessionid=5854, ishit=0, teamid=99, teamlevel=1),\n",
       " Row(timestamp=datetime.datetime(2016, 5, 26, 15, 7, 20), clickid=22, userid=1362, usersessionid=5739, ishit=0, teamid=13, teamlevel=1)]"
      ]
     },
     "execution_count": 6,
     "metadata": {},
     "output_type": "execute_result"
    }
   ],
   "source": [
    "df.head(5)"
   ]
  },
  {
   "cell_type": "code",
   "execution_count": 7,
   "metadata": {
    "collapsed": false
   },
   "outputs": [
    {
     "name": "stdout",
     "output_type": "stream",
     "text": [
      "+--------------------+-------+------+-------------+-----+------+---------+\n",
      "|           timestamp|clickid|userid|usersessionid|ishit|teamid|teamlevel|\n",
      "+--------------------+-------+------+-------------+-----+------+---------+\n",
      "|2016-05-26 15:06:...|    105|  1038|         5916|    0|    25|        1|\n",
      "|2016-05-26 15:07:...|    154|  1099|         5898|    0|    44|        1|\n",
      "|2016-05-26 15:07:...|    229|   899|         5757|    0|    71|        1|\n",
      "|2016-05-26 15:07:...|    322|  2197|         5854|    0|    99|        1|\n",
      "|2016-05-26 15:07:...|     22|  1362|         5739|    0|    13|        1|\n",
      "+--------------------+-------+------+-------------+-----+------+---------+\n",
      "only showing top 5 rows\n",
      "\n"
     ]
    }
   ],
   "source": [
    "df.show(5)"
   ]
  },
  {
   "cell_type": "code",
   "execution_count": 8,
   "metadata": {
    "collapsed": false
   },
   "outputs": [
    {
     "name": "stdout",
     "output_type": "stream",
     "text": [
      "+------+------+\n",
      "|userid|teamid|\n",
      "+------+------+\n",
      "|  1038|    25|\n",
      "|  1099|    44|\n",
      "|   899|    71|\n",
      "|  2197|    99|\n",
      "|  1362|    13|\n",
      "+------+------+\n",
      "only showing top 5 rows\n",
      "\n"
     ]
    }
   ],
   "source": [
    "df.select('userid','teamid').show(5)"
   ]
  },
  {
   "cell_type": "code",
   "execution_count": 10,
   "metadata": {
    "collapsed": false
   },
   "outputs": [
    {
     "name": "stdout",
     "output_type": "stream",
     "text": [
      "+--------------------+-------+------+-------------+-----+------+---------+\n",
      "|           timestamp|clickid|userid|usersessionid|ishit|teamid|teamlevel|\n",
      "+--------------------+-------+------+-------------+-----+------+---------+\n",
      "|2016-05-26 15:06:...|    105|  1038|         5916|    0|    25|        1|\n",
      "|2016-05-26 15:07:...|    154|  1099|         5898|    0|    44|        1|\n",
      "|2016-05-26 15:07:...|    229|   899|         5757|    0|    71|        1|\n",
      "|2016-05-26 15:07:...|    322|  2197|         5854|    0|    99|        1|\n",
      "|2016-05-26 15:07:...|     22|  1362|         5739|    0|    13|        1|\n",
      "+--------------------+-------+------+-------------+-----+------+---------+\n",
      "only showing top 5 rows\n",
      "\n"
     ]
    }
   ],
   "source": [
    "df.filter(df['teamlevel'] == 1).show(5)"
   ]
  },
  {
   "cell_type": "code",
   "execution_count": 11,
   "metadata": {
    "collapsed": false
   },
   "outputs": [
    {
     "name": "stdout",
     "output_type": "stream",
     "text": [
      "+------+------+\n",
      "|userid|teamid|\n",
      "+------+------+\n",
      "|  1513|    13|\n",
      "|   868|    35|\n",
      "|  1453|    22|\n",
      "|  1282|    93|\n",
      "|  1473|    75|\n",
      "|   812|    36|\n",
      "|  2359|    85|\n",
      "|  2048|    78|\n",
      "|  1928|    82|\n",
      "|  1304|    77|\n",
      "+------+------+\n",
      "only showing top 10 rows\n",
      "\n"
     ]
    }
   ],
   "source": [
    "df.filter(df['teamlevel'] == 2).select('userid','teamid').show(10)"
   ]
  },
  {
   "cell_type": "code",
   "execution_count": 13,
   "metadata": {
    "collapsed": false
   },
   "outputs": [
    {
     "name": "stdout",
     "output_type": "stream",
     "text": [
      "+---------+------+\n",
      "|teamlevel| count|\n",
      "+---------+------+\n",
      "|        1| 67271|\n",
      "|        2| 80950|\n",
      "|        3| 98823|\n",
      "|        4|111176|\n",
      "|        5|117099|\n",
      "|        6|122757|\n",
      "|        7|106436|\n",
      "|        8| 51294|\n",
      "+---------+------+\n",
      "\n"
     ]
    }
   ],
   "source": [
    "df.groupBy('teamlevel').count().show()"
   ]
  },
  {
   "cell_type": "code",
   "execution_count": 14,
   "metadata": {
    "collapsed": true
   },
   "outputs": [],
   "source": [
    "from pyspark.sql.functions import *"
   ]
  },
  {
   "cell_type": "code",
   "execution_count": 16,
   "metadata": {
    "collapsed": false
   },
   "outputs": [
    {
     "name": "stdout",
     "output_type": "stream",
     "text": [
      "+----------+------------------+\n",
      "|sum(ishit)|        avg(ishit)|\n",
      "+----------+------------------+\n",
      "|     83383|0.1103232840173272|\n",
      "+----------+------------------+\n",
      "\n"
     ]
    }
   ],
   "source": [
    "df.select(sum('ishit'),mean('ishit')).show()"
   ]
  },
  {
   "cell_type": "code",
   "execution_count": 21,
   "metadata": {
    "collapsed": false
   },
   "outputs": [],
   "source": [
    "df2 = sqlsc.read.format(\"jdbc\").option(\"url\",\"jdbc:postgresql://localhost/cloudera?user=cloudera\").option(\"dbtable\",\"adclicks\").load()"
   ]
  },
  {
   "cell_type": "code",
   "execution_count": 22,
   "metadata": {
    "collapsed": false
   },
   "outputs": [
    {
     "name": "stdout",
     "output_type": "stream",
     "text": [
      "root\n",
      " |-- timestamp: timestamp (nullable = false)\n",
      " |-- txid: integer (nullable = false)\n",
      " |-- usersessionid: integer (nullable = false)\n",
      " |-- teamid: integer (nullable = false)\n",
      " |-- userid: integer (nullable = false)\n",
      " |-- adid: integer (nullable = false)\n",
      " |-- adcategory: string (nullable = false)\n",
      "\n"
     ]
    }
   ],
   "source": [
    "df2.printSchema()"
   ]
  },
  {
   "cell_type": "code",
   "execution_count": 23,
   "metadata": {
    "collapsed": true
   },
   "outputs": [],
   "source": [
    "merge = df.join(df2,'userid')"
   ]
  },
  {
   "cell_type": "code",
   "execution_count": 24,
   "metadata": {
    "collapsed": false
   },
   "outputs": [
    {
     "name": "stdout",
     "output_type": "stream",
     "text": [
      "+------+--------------------+-------+-------------+-----+------+---------+--------------------+-----+-------------+------+----+----------+\n",
      "|userid|           timestamp|clickid|usersessionid|ishit|teamid|teamlevel|           timestamp| txid|usersessionid|teamid|adid|adcategory|\n",
      "+------+--------------------+-------+-------------+-----+------+---------+--------------------+-----+-------------+------+----+----------+\n",
      "|   231|2016-06-08 00:45:...| 376796|        23626|    0|   142|        4|2016-06-08 01:40:...|23669|        23626|   142|  27|     games|\n",
      "|   231|2016-06-08 00:45:...| 376796|        23626|    0|   142|        4|2016-06-08 09:24:...|24122|        23626|   142|   4|     games|\n",
      "|   231|2016-06-08 00:45:...| 376796|        23626|    0|   142|        4|2016-06-08 17:21:...|24659|        23626|   142|  22| computers|\n",
      "|   231|2016-06-08 00:45:...| 376796|        23626|    0|   142|        4|2016-06-08 23:34:...|25076|        23626|   142|  21|    movies|\n",
      "|   231|2016-06-08 00:45:...| 376796|        23626|    0|   142|        4|2016-06-09 16:32:...|26220|        23626|   142|  16|  clothing|\n",
      "+------+--------------------+-------+-------------+-----+------+---------+--------------------+-----+-------------+------+----+----------+\n",
      "only showing top 5 rows\n",
      "\n"
     ]
    }
   ],
   "source": [
    "merge.show(5)"
   ]
  },
  {
   "cell_type": "code",
   "execution_count": 25,
   "metadata": {
    "collapsed": false
   },
   "outputs": [
    {
     "name": "stdout",
     "output_type": "stream",
     "text": [
      "root\n",
      " |-- userid: integer (nullable = false)\n",
      " |-- timestamp: timestamp (nullable = false)\n",
      " |-- clickid: integer (nullable = false)\n",
      " |-- usersessionid: integer (nullable = false)\n",
      " |-- ishit: integer (nullable = false)\n",
      " |-- teamid: integer (nullable = false)\n",
      " |-- teamlevel: integer (nullable = false)\n",
      " |-- timestamp: timestamp (nullable = false)\n",
      " |-- txid: integer (nullable = false)\n",
      " |-- usersessionid: integer (nullable = false)\n",
      " |-- teamid: integer (nullable = false)\n",
      " |-- adid: integer (nullable = false)\n",
      " |-- adcategory: string (nullable = false)\n",
      "\n"
     ]
    }
   ],
   "source": [
    "merge.printSchema()"
   ]
  },
  {
   "cell_type": "code",
   "execution_count": null,
   "metadata": {
    "collapsed": true
   },
   "outputs": [],
   "source": []
  }
 ],
 "metadata": {
  "kernelspec": {
   "display_name": "Python 3",
   "language": "python",
   "name": "python3"
  },
  "language_info": {
   "codemirror_mode": {
    "name": "ipython",
    "version": 3
   },
   "file_extension": ".py",
   "mimetype": "text/x-python",
   "name": "python",
   "nbconvert_exporter": "python",
   "pygments_lexer": "ipython3",
   "version": "3.5.1"
  }
 },
 "nbformat": 4,
 "nbformat_minor": 0
}
